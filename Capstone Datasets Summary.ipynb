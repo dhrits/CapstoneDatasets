{
 "cells": [
  {
   "cell_type": "markdown",
   "id": "3239fb9c",
   "metadata": {},
   "source": [
    "# Project Summary\n",
    "\n",
    "Tentatively, my project aims to build a web/mobile app which allows visual detection classification of dog breeds using deep neural networks. To this end, the datasets must consist of images of various dog breeds and corresponding breed labels. As per the requirements of this mini-project, three datasets are described below. "
   ]
  },
  {
   "cell_type": "code",
   "execution_count": 32,
   "id": "8654d07c",
   "metadata": {},
   "outputs": [],
   "source": [
    "# Utility function for downloading large files\n",
    "\n",
    "import requests\n",
    "import os\n",
    "from tqdm.auto import tqdm\n",
    "from pathlib import Path\n",
    "import math\n",
    "\n",
    "def download_file(url, filename=None):\n",
    "    if filename is None:\n",
    "        filename = url.split(os.sep)[-1]\n",
    "    if Path(filename).exists():\n",
    "        print(f\"{filename} already exists. Skipping\")\n",
    "        return\n",
    "    # Get size of the file\n",
    "    CHUNK_SIZE = 16384\n",
    "    headers = requests.head(url).headers\n",
    "    size = None\n",
    "    if headers:\n",
    "        size = headers.get('content-length', None)\n",
    "        if size is not None:\n",
    "            size = float(size)/CHUNK_SIZE\n",
    "            size = math.ceil(size)\n",
    "    with requests.get(url, stream=True) as r:\n",
    "        r.raise_for_status()\n",
    "        with open(filename, 'wb') as f:\n",
    "            for chunk in tqdm(r.iter_content(chunk_size=16384), total=size):\n",
    "                f.write(chunk)"
   ]
  },
  {
   "cell_type": "markdown",
   "id": "beba7ece",
   "metadata": {},
   "source": [
    "# Stanford Dogs Dataset\n",
    "The [stanford dogs dataset consists](http://vision.stanford.edu/aditya86/ImageNetDogs/) of **20,580 images of 120 different dog breeds**. The dataset consists of both bounding boxes (for object detection) as well as dog breed labels. Based on discussions and leaderboards at paperswithcode, this dataset has become an important benchmark for dog breed classification."
   ]
  },
  {
   "cell_type": "code",
   "execution_count": 25,
   "id": "22a4ac23",
   "metadata": {},
   "outputs": [],
   "source": [
    "# Run cell below to download Stanford Dogs data\n",
    "STANFORD_DOGS_IMAGE_URL = 'http://vision.stanford.edu/aditya86/ImageNetDogs/images.tar'\n",
    "STANFORD_DOGS_ANNOTATIONS_URL = 'http://vision.stanford.edu/aditya86/ImageNetDogs/annotation.tar'\n",
    "STANFORD_DOGS_SPLITS_URL = 'http://vision.stanford.edu/aditya86/ImageNetDogs/lists.tar'"
   ]
  },
  {
   "cell_type": "code",
   "execution_count": null,
   "id": "80ac4800",
   "metadata": {},
   "outputs": [],
   "source": [
    "download_file(STANFORD_DOGS_IMAGE_URL)"
   ]
  },
  {
   "cell_type": "code",
   "execution_count": null,
   "id": "2d8cdbf4",
   "metadata": {},
   "outputs": [],
   "source": [
    "download_file(STANFORD_DOGS_ANNOTATIONS_URL)"
   ]
  },
  {
   "cell_type": "code",
   "execution_count": null,
   "id": "cbc6633a",
   "metadata": {},
   "outputs": [],
   "source": [
    "download_file(STANFORD_DOGS_SPLITS_URL)"
   ]
  },
  {
   "cell_type": "markdown",
   "id": "e2989417",
   "metadata": {},
   "source": [
    "# Tsinghua Dogs Dataset\n",
    "\n",
    "[Tsinghua University Dogs Dataset](https://cg.cs.tsinghua.edu.cn/ThuDogs/) is another important benchmark dataset for dogbreed classification and detection. This dataset consists of **70428 images of 130 different dog breeds**. Each dog breed has anywhere from 200 to 7449 images represented in this dataset and the sample sizes are roughly representative of frequencies of dog breeds found in China. \n",
    "\n",
    "As is the case with Stanford Dogs dataset, this dataset also consists of class labels as well as bounding boxes. "
   ]
  },
  {
   "cell_type": "code",
   "execution_count": 27,
   "id": "0db8b12c",
   "metadata": {},
   "outputs": [],
   "source": [
    "# Run cell below to download Tsinghua Dogs Dataset\n",
    "TSINGHUA_DOGS_LOW_RES_IMAGES_URL = 'https://cloud.tsinghua.edu.cn/f/80013ef29c5f42728fc8/?dl=1'\n",
    "TSINGHUA_DOGS_LOW_RES_ANNOTATIONS_URL = 'https://cg.cs.tsinghua.edu.cn/ThuDogs/low-annotations.zip'"
   ]
  },
  {
   "cell_type": "code",
   "execution_count": null,
   "id": "83ed1172",
   "metadata": {},
   "outputs": [],
   "source": [
    "download_file(TSINGHUA_DOGS_LOW_RES_IMAGES_URL)"
   ]
  },
  {
   "cell_type": "code",
   "execution_count": null,
   "id": "5bf8a012",
   "metadata": {},
   "outputs": [],
   "source": [
    "download_file(TSINGHUA_DOGS_LOW_RES_ANNOTATIONS_URL)"
   ]
  },
  {
   "cell_type": "markdown",
   "id": "3edaa629",
   "metadata": {},
   "source": [
    "# Kaggle Dog Breeds Classification Dataset\n",
    "\n",
    "This is yet another dataset for **20,000 images of 120 different breeds.**. However, a drawback of this dataset is that it only consists of labels of dog breeds and not bounding boxes. However, on the plus side, the data is pre-cropped so each image represents mostly only the dog. \n",
    "\n",
    "Since this dataset is associated with a Kaggle competition, downloading it programmatically requires a Kaggle account. Please follow instructions [here](https://www.kaggle.com/docs/api) on how to use the Kaggle API. "
   ]
  },
  {
   "cell_type": "code",
   "execution_count": null,
   "id": "6e9a8e3b",
   "metadata": {},
   "outputs": [],
   "source": [
    "!pip install kaggle"
   ]
  },
  {
   "cell_type": "code",
   "execution_count": null,
   "id": "d52c14ec",
   "metadata": {},
   "outputs": [],
   "source": [
    "# Ensure you've downloaded kaggle.json based on instructions above\n",
    "# The Kaggle API client expects this file to be in ~/.kaggle,\n",
    "# so move it there.\n",
    "!mkdir -p ~/.kaggle\n",
    "!cp kaggle.json ~/.kaggle/\n",
    "\n",
    "\n",
    "# This permissions change avoids a warning on Kaggle tool startup.\n",
    "!chmod 600 ~/.kaggle/kaggle.json"
   ]
  },
  {
   "cell_type": "code",
   "execution_count": null,
   "id": "2cfa21a6",
   "metadata": {},
   "outputs": [],
   "source": [
    "#download the dataset for the dog-breed identification challenge https://www.kaggle.com/c/dog-breed-identification\n",
    "!kaggle competitions download -c dog-breed-identification"
   ]
  }
 ],
 "metadata": {
  "kernelspec": {
   "display_name": "Python 3",
   "language": "python",
   "name": "python3"
  },
  "language_info": {
   "codemirror_mode": {
    "name": "ipython",
    "version": 3
   },
   "file_extension": ".py",
   "mimetype": "text/x-python",
   "name": "python",
   "nbconvert_exporter": "python",
   "pygments_lexer": "ipython3",
   "version": "3.7.3"
  }
 },
 "nbformat": 4,
 "nbformat_minor": 5
}
